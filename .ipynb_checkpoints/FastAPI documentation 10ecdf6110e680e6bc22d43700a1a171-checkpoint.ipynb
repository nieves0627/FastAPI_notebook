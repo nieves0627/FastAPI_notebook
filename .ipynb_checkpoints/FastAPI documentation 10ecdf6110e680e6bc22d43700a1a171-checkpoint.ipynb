{
  "metadata": {
    "kernelspec": {
      "display_name": "Python 3",
      "language": "python",
      "name": "python3"
    },
    "language_info": {
      "codemirror_mode": {
        "name": "ipython",
        "version": 3
      },
      "file_extension": ".py",
      "mimetype": "text/x-python",
      "name": "python",
      "nbconvert_exporter": "python",
      "pygments_lexer": "ipython3",
      "version": "3.10.9"
    }
  },
  "nbformat": 4,
  "nbformat_minor": 4,
  "cells": [
    {
      "cell_type": "markdown",
      "metadata": {},
      "source": [
        "# FastAPI documentation\n\nCreated by: juliana alejandra gutierrez castro\nCreated time: September 27, 2024 5:12 PM\n\n# Basic usage\n\n## First steps\n\n1. **import `FastAPI`:** from fastapi import FastAPI\n    \n"
      ]
    },
    {
      "cell_type": "code",
      "metadata": {},
      "source": [
        "    from fastapi import FastAPI\n    \n    app = FastAPI()\n    \n    @app.get(\"/\")\n    async def root():\n        return {\"message\": \"Hello World\"}\n"
      ]
    },
    {
      "cell_type": "markdown",
      "metadata": {},
      "source": [
        "    \n    `FastAPI` is a Python class that provides all the functionality for your API.\n    \n    <aside>\n    \uf8ff\u00fc\u00ed\u00b0\n    \n    `FastAPI` is a class that inherits directly from `Starlette`.\n    \n    You can use all the [Starlette](https://www.starlette.io/) functionality with `FastAPI` too.\n    \n    </aside>\n    \n2. **create a `FastAPI` \"instance\":** app = FastAPI()\n    \n    Here the `app` variable will be an \"instance\" of the class `FastAPI`.\n    \n    This will be the main point of interaction to create all your API.\n    \n3. **create a *path operation:*** @app.get(\"/\")\n\n## Path\n\n\"Path\" here refers to the last part of the URL starting from the first `/` after https://.\n\nSo, in a URL like:\n\n"
      ]
    },
    {
      "cell_type": "code",
      "metadata": {},
      "source": [
        "https://example.com/items/foo\n"
      ]
    },
    {
      "cell_type": "markdown",
      "metadata": {},
      "source": [
        "\n...the path would be:\n\n"
      ]
    },
    {
      "cell_type": "code",
      "metadata": {},
      "source": [
        "/items/foo\n"
      ]
    },
    {
      "cell_type": "markdown",
      "metadata": {},
      "source": [
        "\n<aside>\n\uf8ff\u00fc\u00ed\u00b0\n\nA \"path\" is also commonly called an \"endpoint\" or a \"route\".\n\n</aside>\n\nWhen building APIs, you normally use these specific HTTP methods to perform a specific action.\n\nNormally you use:\n\n- `POST`: to create data.\n- `GET`: to read data.\n- `PUT`: to update data.\n- `DELETE`: to delete data.\n\nSo, in OpenAPI, each of the HTTP methods is called an \"operation\".\n\nWe are going to call them \"**operations**\" too.\n\n## Define a *path operation decorator*\n\nThe `@app.get(\"/\")` tells **FastAPI** that the function right below is in charge of handling requests that go to:\n\n- the path `/`\n- using a `get` operation\n\n<aside>\n\uf8ff\u00fc\u00ed\u00b0\n\nThat `@something` syntax in Python is called a \"decorator\".\n\nYou put it on top of a function. Like a pretty decorative hat (I guess that's where the term came from).\n\nA \"decorator\" takes the function below and does something with it.\n\nIn our case, this decorator tells **FastAPI** that the function below corresponds to the **path** `/` with an **operation** `get`.\n\nIt is the \"**path operation decorator**\".\n\n</aside>\n\n1. **define the path operation function:** `async def root():`\n    \n    This is our \"**path operation function**\":\n    \n    - **path**: is `/`.\n    - **operation**: is `get`.\n    - **function**: is the function below the \"decorator\" (below `@app.get(\"/\")`).\n    \n    This is a Python function.\n    \n    It will be called by **FastAPI** whenever it receives a request to the URL \"`/`\" using a `GET` operation.\n    \n    In this case, it is an `async` function.\n    \n"
      ]
    },
    {
      "cell_type": "code",
      "metadata": {},
      "source": [
        "    from fastapi import FastAPI\n    \n    app = FastAPI()\n    \n    @app.get(\"/\")\n    async def root():\n        return {\"message\": \"Hello World\"}\n"
      ]
    },
    {
      "cell_type": "markdown",
      "metadata": {},
      "source": [
        "    \n    <aside>\n    \uf8ff\u00fc\u00ed\u00b0\n    \n    You could also define it as a normal function instead of `async def`\n    \n    </aside>\n    \n2. **return the content**\n    \n    You can return a `dict`, `list`, singular values as `str`, `int`, etc.\n    \n    You can also return Pydantic models (you'll see more about that later).\n    \n\n## **Recap**\n\n- Import `FastAPI`.\n- Create an `app` instance.\n- Write a **path operation decorator** using decorators like `@app.get(\"/\")`.\n- Define a **path operation function**; for example, `def root(): ...`.\n- Run the development server using the command `fastapi dev`.\n\n# **Path Parameters**\n\nYou can declare path \"parameters\" or \"variables\" with the same syntax used by Python format strings:\n\n"
      ]
    },
    {
      "cell_type": "code",
      "metadata": {},
      "source": [
        "from fastapi import FastAPI\n\napp = FastAPI()\n\n@app.get(\"/items/{item_id}\")\nasync def read_item(item_id):\n    return {\"item_id\": item_id}\n"
      ]
    },
    {
      "cell_type": "markdown",
      "metadata": {},
      "source": [
        "\n**The value of the path parameter `item_id` will be passed to your function as the argument `item_id`.**\n\nSo, if you run this example and go to [http://127.0.0.1:8000/items/foo](http://127.0.0.1:8000/items/foo), you will see a response of:\n\n"
      ]
    },
    {
      "cell_type": "code",
      "metadata": {},
      "source": [
        "{\"item_id\":\"foo\"}\n"
      ]
    },
    {
      "cell_type": "markdown",
      "metadata": {},
      "source": [
        "\n## **Path parameters with types**\n\nYou can declare the type of a path parameter in the function, using standard Python type annotations:\n\n"
      ]
    },
    {
      "cell_type": "code",
      "metadata": {},
      "source": [
        "from fastapi import FastAPI\n\napp = FastAPI()\n\n@app.get(\"/items/{item_id}\")\nasync def read_item(item_id: int):\n    return {\"item_id\": item_id}\n"
      ]
    },
    {
      "cell_type": "markdown",
      "metadata": {},
      "source": [
        "\nIn this case, `item_id` is declared to be an `int`.\n\n<aside>\n\uf8ff\u00fc\u00ed\u00b0\n\nThis will give you editor support inside of your function, with error checks, completion, etc.\n\n</aside>\n\n## **Data conversion**\n\nIf you run this example and open your browser at [http://127.0.0.1:8000/items/3](http://127.0.0.1:8000/items/3), you will see a response of:\n\n"
      ]
    },
    {
      "cell_type": "code",
      "metadata": {},
      "source": [
        "{\"item_id\":3}\n"
      ]
    },
    {
      "cell_type": "markdown",
      "metadata": {},
      "source": [
        "\n<aside>\n\uf8ff\u00fc\u00ed\u00b0\n\nNotice that the value your function received (and returned) is `3`, as a Python `int`, not a string `\"3\"`.\n\nSo, with that type declaration, **FastAPI** gives you automatic request \"parsing\".\n\n</aside>\n\n## **Data validation**\n\nBut if you go to the browser at [http://127.0.0.1:8000/items/foo](http://127.0.0.1:8000/items/foo), you will see a nice HTTP error of:\n\n![image.png](image.png)\n\nbecause the path parameter `item_id` had a value of `\"foo\"`, which is not an `int`.\n\nThe same error would appear if you provided a `float` instead of an `int`, as in: [http://127.0.0.1:8000/items/4.2](http://127.0.0.1:8000/items/4.2)\n\n<aside>\n\uf8ff\u00fc\u00ed\u00b0\n\nSo, with the same Python type declaration, **FastAPI** gives you data validation.\n\nNotice that the error also clearly states exactly the point where the validation didn't pass.\n\nThis is incredibly helpful while developing and debugging code that interacts with your API.\n\n</aside>\n\n## **Documentation**\n\nAnd when you open your browser at http://127.0.0.1:8000/docs, you will see an automatic, interactive, API documentation like:\n\n![image01.png](image01.png)\n\n## **Pydantic**\n\nAll the data validation is performed under the hood by [Pydantic](https://docs.pydantic.dev/), so you get all the benefits from it. And you know you are in good hands.\n\nYou can use the same type declarations with `str`, `float`, `bool` and many other complex data types.\n\n## **Order matters**\n\nWhen creating *path operations*, you can find situations where you have a fixed path.\n\nLike `/users/me`, let's say that it's to get data about the current user.\n\nAnd then you can also have a path `/users/{user_id}` to get data about a specific user by some user ID.\n\nBecause *path operations* are evaluated in order, you need to make sure that the path for `/users/me` is declared before the one for `/users/{user_id}`:\n\n"
      ]
    },
    {
      "cell_type": "code",
      "metadata": {},
      "source": [
        "from fastapi import FastAPI\n\napp = FastAPI()\n\n@app.get(\"/users/me\")\nasync def read_user_me():\n    return {\"user_id\": \"the current user\"}\n\n@app.get(\"/users/{user_id}\")\nasync def read_user(user_id: str):\n    return {\"user_id\": user_id}\n"
      ]
    },
    {
      "cell_type": "markdown",
      "metadata": {},
      "source": [
        "\nOtherwise, the path for `/users/{user_id}` would match also for `/users/me`, \"thinking\" that it's receiving a parameter `user_id` with a value of `\"me\"`.\n\n**For example:** The following code is ordered with the function \u201a\u00c4\u00fa*read_user_me()*\u201a\u00c4\u00f9 as the first call and \u201a\u00c4\u00fa*read_use*r()\u201a\u00c4\u00f9 as the second call.  As a result, for each time \u201a\u00c4\u00fame\u201a\u00c4\u00f9 is typed as a path parameter, the server will show us the *\u201a\u00c4\u00fauser_id\u201a\u00c4\u00f9:  \u201a\u00c4\u00fathe current user\u201a\u00c4\u00f9* string response.\n\n![image.png](image%201.png)\n\n![image.png](image%202.png)\n\n**Example 2**: Otherwise, for every time we type \u201a\u00c4\u00fame\u201a\u00c4\u00f9 as a path parameter, we will get the string \u201a\u00c4\u00fame\u201a\u00c4\u00f9 as a response. \n\n![image.png](image%203.png)\n\n![image.png](image%204.png)\n\n**Similarly, you cannot redefine a path operation:**\n\n"
      ]
    },
    {
      "cell_type": "code",
      "metadata": {},
      "source": [
        "from fastapi import FastAPI\n\napp = FastAPI()\n\n@app.get(\"/users\")\nasync def read_users():\n    return [\"Rick\", \"Morty\"]\n\n@app.get(\"/users\")\nasync def read_users2():\n    return [\"Bean\", \"Elfo\"]\n"
      ]
    },
    {
      "cell_type": "markdown",
      "metadata": {},
      "source": [
        "\nThe first one will always be used since the path matches first\n\n## **Predefined values with Enum**\n\nIf you have a *path operation* that receives a *path parameter*, but you want the possible valid *path parameter* values to be predefined, you can use a standard Python `Enum`.\n\n1. **Create an `Enum` class**\n\nImport `Enum` and create a sub-class that inherits from `str` and from `Enum`.\n\n"
      ]
    },
    {
      "cell_type": "code",
      "metadata": {},
      "source": [
        "from enum import Enum\n\nfrom fastapi import FastAPI\n\nclass ModelName(str, Enum):\n    alexnet = \"alexnet\"\n    resnet = \"resnet\"\n    lenet = \"lenet\"\n"
      ]
    },
    {
      "cell_type": "markdown",
      "metadata": {},
      "source": [
        "\n<aside>\n\uf8ff\u00fc\u00ed\u00b0\n\nBy inheriting from `str` the API docs will be able to know that the values must be of type `string` and will be able to render correctly.\n\n</aside>\n\nThen create class attributes with fixed values, which will be the available valid values.\n\n1. **Declare a *path parameter***\n\nThen create a *path parameter* with a type annotation using the enum class you created (`ModelName`):\n\n"
      ]
    },
    {
      "cell_type": "code",
      "metadata": {},
      "source": [
        "from enum import Enum\n\nfrom fastapi import FastAPI\n\nclass ModelName(str, Enum):\n    alexnet = \"alexnet\"\n    resnet = \"resnet\"\n    lenet = \"lenet\"\n    \n@app.get(\"/models/{model_name}\")\nasync def get_model(model_name: ModelName):\n"
      ]
    },
    {
      "cell_type": "markdown",
      "metadata": {},
      "source": [
        "\n**3. Compare *enumeration members:*** \n\nYou can compare it with the *enumeration member* in your created enum `ModelName`\n\n"
      ]
    },
    {
      "cell_type": "code",
      "metadata": {},
      "source": [
        "from enum import Enum\n\nfrom fastapi import FastAPI\n\nclass ModelName(str, Enum):\n    alexnet = \"alexnet\"\n    resnet = \"resnet\"\n    lenet = \"lenet\"\n    \n@app.get(\"/models/{model_name}\")\nasync def get_model(model_name: ModelName):\n    if model_name is ModelName.alexnet:\n        return {\"model_name\": model_name, \"message\": \"Deep Learning FTW!\"}\n\n    if model_name.value == \"lenet\":\n        return {\"model_name\": model_name, \"message\": \"LeCNN all the images\"}\n"
      ]
    },
    {
      "cell_type": "markdown",
      "metadata": {},
      "source": [
        "\n1. **Get the *enumeration value***\n\nYou can get the actual value (a `str` in this case) using `model_name.value`, or in general, `your_enum_member.value`:\n\n"
      ]
    },
    {
      "cell_type": "code",
      "metadata": {},
      "source": [
        "from enum import Enum\n\nfrom fastapi import FastAPI\n\nclass ModelName(str, Enum):\n    alexnet = \"alexnet\"\n    resnet = \"resnet\"\n    lenet = \"lenet\"\n    \n@app.get(\"/models/{model_name}\")\nasync def get_model(model_name: ModelName):\n    if model_name is ModelName.alexnet:\n        return {\"model_name\": model_name, \"message\": \"Deep Learning FTW!\"}\n\n    if model_name.value == \"lenet\":\n        return {\"model_name\": model_name, \"message\": \"LeCNN all the images\"}\n\n    return {\"model_name\": model_name, \"message\": \"Have some residuals\"}\n"
      ]
    },
    {
      "cell_type": "markdown",
      "metadata": {},
      "source": [
        "\n<aside>\n\uf8ff\u00fc\u00ed\u00b0\n\nIf you are wondering, \"AlexNet\", \"ResNet\", and \"LeNet\" are just names of Machine Learning models.\n\n</aside>\n\n1. **Return *enumeration members***\n\nYou can return *enum members* from your *path operation*, even nested in a JSON body (e.g. a `dict`).\n\nThey will be converted to their corresponding values (strings in this case) before returning them to the client:\n\n### Examples:\n\n**Example 1: ____________________________________________________________________________________________**\n\n![image.png](image%205.png)\n\n**Example 2:_____________________________________________________________________________________________**\n\n![image.png](image%206.png)\n\n**Example 3:_____________________________________________________________________________________________**\n\n![image.png](image%207.png)\n\n**Example 4 (with error):________________________________________________________________________________**\n\n![image.png](image%208.png)\n\n## **Path parameters containing paths**\n\nLet's say you have a *path operation* with a path `/files/{file_path}`.\n\nBut you need `file_path` itself to contain a *path*, like `home/johndoe/myfile.txt`.\n\nSo, the URL for that file would be something like: `/files/home/johndoe/myfile.txt`.\n\n### **Path convertor**\n\nUsing an option directly from Starlette you can declare a *path parameter* containing a *path* using a URL like:\n\n"
      ]
    },
    {
      "cell_type": "code",
      "metadata": {},
      "source": [
        "/files/{file_path:path}\n"
      ]
    },
    {
      "cell_type": "markdown",
      "metadata": {},
      "source": [
        "\nIn this case, the name of the parameter is `file_path`, and the last part, `:path`, tells it that the parameter should match any *path*.\n\nSo, you can use it with:\n\n"
      ]
    },
    {
      "cell_type": "code",
      "metadata": {},
      "source": [
        "from fastapi import FastAPI\n\napp = FastAPI()\n\n@app.get(\"/files/{file_path:path}\")\nasync def read_file(file_path: str):\n    return {\"file_path\": file_path}\n"
      ]
    },
    {
      "cell_type": "markdown",
      "metadata": {},
      "source": [
        "\nExample:\n\n![image.png](image%209.png)\n\n![image.png](image%2010.png)\n\n<aside>\n\uf8ff\u00fc\u00ed\u00b0\n\nYou could need the parameter to contain `/home/johndoe/myfile.txt`, with a leading slash (`/`).\n\nIn that case, the URL would be: `/files//home/johndoe/myfile.txt`, with a double slash (`//`) between `files` and `home`.\n\n</aside>\n\n## **Recap**\n\nWith **FastAPI**, by using short, intuitive and standard Python type declarations, you get:\n\n- Editor support: error checks, auto-completion, etc.\n- Data \"\"\n    \n    parsing\n    \n- Data validation\n- API annotation and automatic documentation\n\nAnd you only have to declare them once.\n\nThat's probably the main visible advantage of **FastAPI** compared to alternative frameworks (apart from the raw performance).\n\n# Query Parameters\n\nWhen you declare other function parameters that are not part of the path parameters, they are automatically interpreted as \"query\" parameters.\n\n"
      ]
    },
    {
      "cell_type": "code",
      "metadata": {},
      "source": [
        "from fastapi import FastAPI\n\napp = FastAPI()\n\nfake_items_db = [{\"item_name\": \"Foo\"}, {\"item_name\": \"Bar\"}, {\"item_name\": \"Baz\"}]\n\n@app.get(\"/items/\")\nasync def read_item(skip: int = 0, limit: int = 10):\n    return fake_items_db[skip : skip + limit]\n"
      ]
    },
    {
      "cell_type": "markdown",
      "metadata": {},
      "source": [
        "\n<aside>\n\uf8ff\u00fc\u00ed\u00b0\n\n- return fake_items_db[skip: skip + limit]\n    \n    This line returns a slice of the `fake_items_db` list. It starts at the index specified by `skip` and goes up to (but not including) the index specified by `skip + limit`.\n    \n\nIn summary, this code sets up a FastAPI application with a single endpoint (\"/items/\") that returns a subset of items from a fake database. The endpoint supports pagination through `skip` and `limit` query parameters\n\n</aside>\n\n**The query is the set of key-value pairs that go after the `?` in a URL, separated by `&` characters.**\n\nFor example, in the URL:\n\n"
      ]
    },
    {
      "cell_type": "code",
      "metadata": {},
      "source": [
        "http://127.0.0.1:8000/items/?skip=0&limit=10\n"
      ]
    },
    {
      "cell_type": "markdown",
      "metadata": {},
      "source": [
        "\nThe query parameters are:\n\n- `skip`: with a value of `0`\n- `limit`: with a value of `10`\n\nAs they are part of the URL, they are \"naturally\" strings.\n\nBut when you declare them with Python types (in the example above, as `int`), they are converted to that type and validated against it.\n\nAll the same process that applied for path parameters also applies for query parameters\n\nExample 1:\n\n![image.png](image%2011.png)\n\nExample 2:\n\n![image.png](image%2012.png)\n\nExample 3:\n\n![image.png](image%2013.png)\n\n## **Defaults**\n\n**As query parameters are not a fixed part of a path, they can be optional and can have default values.**\n\nIn the example above they have default values of `skip=0` and `limit=10`.\n\nSo, going to the URL:\n\n"
      ]
    },
    {
      "cell_type": "code",
      "metadata": {},
      "source": [
        "http://127.0.0.1:8000/items/\n"
      ]
    },
    {
      "cell_type": "markdown",
      "metadata": {},
      "source": [
        "\nwould be the same as going to:\n\n"
      ]
    },
    {
      "cell_type": "code",
      "metadata": {},
      "source": [
        "http://127.0.0.1:8000/items/?skip=0&limit=10\n"
      ]
    },
    {
      "cell_type": "markdown",
      "metadata": {},
      "source": [
        "\nBut if you go to, for example:\n\n"
      ]
    },
    {
      "cell_type": "code",
      "metadata": {},
      "source": [
        "http://127.0.0.1:8000/items/?skip=20\n"
      ]
    },
    {
      "cell_type": "markdown",
      "metadata": {},
      "source": [
        "\nThe parameter values in your function will be:\n\n- `skip=20`: because you set it in the URL\n- `limit=10`: because that was the default value\n\n## **Optional parameters**\n\nThe same way, you can declare optional query parameters, by setting their default to `None`:\n\n"
      ]
    },
    {
      "cell_type": "code",
      "metadata": {},
      "source": [
        "from fastapi import FastAPI\n\napp = FastAPI()\n\n@app.get(\"/items/{item_id}\")\nasync def read_item(item_id: str, q: str | None = None):\n    if q:\n        return {\"item_id\": item_id, \"q\": q}\n    return {\"item_id\": item_id}\n"
      ]
    },
    {
      "cell_type": "markdown",
      "metadata": {},
      "source": [
        "\nIn this case, the function parameter `q` will be optional, and will be `None` by default.\n\n<aside>\n\uf8ff\u00fc\u00ed\u00b0\n\n*Also notice that **FastAPI** is smart enough to notice that the path parameter `item_id` is a path parameter and `q` is not, so, it's a query parameter.*\n\n</aside>\n\nExample 1:\n\n![image.png](image%2014.png)\n\nExample 2:\n\n![image.png](image%2015.png)\n\n## **Query parameter type conversion**\n\nYou can also declare `bool` types, and they will be converted:\n\n"
      ]
    },
    {
      "cell_type": "code",
      "metadata": {},
      "source": [
        "from fastapi import FastAPI\n\napp = FastAPI()\n\n@app.get(\"/items/{item_id}\")\nasync def read_item(item_id: str, q: str | None = None, short: bool = False):\n    item = {\"item_id\": item_id}\n    if q:\n        item.update({\"q\": q})\n    if not short:\n        item.update(\n            {\"description\": \"This is an amazing item that has a long description\"}\n        )\n    return item\n"
      ]
    },
    {
      "cell_type": "markdown",
      "metadata": {},
      "source": [
        ""
      ]
    }
  ]
}