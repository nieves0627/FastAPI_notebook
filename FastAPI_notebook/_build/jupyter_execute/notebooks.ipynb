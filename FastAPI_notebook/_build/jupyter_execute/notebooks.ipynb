{
 "cells": [
  {
   "cell_type": "markdown",
   "metadata": {},
   "source": [
    "# FastAPI documentation\n",
    "\n",
    "Created by: juliana alejandra gutierrez castro\n",
    "Created time: September 27, 2024 5:12 PM\n",
    "\n",
    "# Basic usage\n",
    "\n",
    "## First steps\n",
    "\n",
    "1. **import `FastAPI`:** from fastapi import FastAPI\n",
    "    \n"
   ]
  },
  {
   "cell_type": "code",
   "execution_count": 1,
   "metadata": {},
   "outputs": [
    {
     "ename": "ModuleNotFoundError",
     "evalue": "No module named 'fastapi'",
     "output_type": "error",
     "traceback": [
      "\u001b[1;31m---------------------------------------------------------------------------\u001b[0m",
      "\u001b[1;31mModuleNotFoundError\u001b[0m                       Traceback (most recent call last)",
      "Cell \u001b[1;32mIn[1], line 1\u001b[0m\n\u001b[1;32m----> 1\u001b[0m \u001b[38;5;28;01mfrom\u001b[39;00m \u001b[38;5;21;01mfastapi\u001b[39;00m \u001b[38;5;28;01mimport\u001b[39;00m FastAPI\n\u001b[0;32m      3\u001b[0m app \u001b[38;5;241m=\u001b[39m FastAPI()\n\u001b[0;32m      5\u001b[0m \u001b[38;5;129m@app\u001b[39m\u001b[38;5;241m.\u001b[39mget(\u001b[38;5;124m\"\u001b[39m\u001b[38;5;124m/\u001b[39m\u001b[38;5;124m\"\u001b[39m)\n\u001b[0;32m      6\u001b[0m \u001b[38;5;28;01masync\u001b[39;00m \u001b[38;5;28;01mdef\u001b[39;00m \u001b[38;5;21mroot\u001b[39m():\n",
      "\u001b[1;31mModuleNotFoundError\u001b[0m: No module named 'fastapi'"
     ]
    }
   ],
   "source": [
    "from fastapi import FastAPI\n",
    "\n",
    "app = FastAPI()\n",
    "\n",
    "@app.get(\"/\")\n",
    "async def root():\n",
    "    return {\"message\": \"Hello World\"}"
   ]
  },
  {
   "cell_type": "markdown",
   "metadata": {
    "tags": []
   },
   "source": [
    "`FastAPI` is a Python class that provides all the functionality for your API.\n",
    "    \n",
    "<aside>\n",
    "\n",
    "`FastAPI` is a class that inherits directly from `Starlette`.\n",
    "\n",
    "You can use all the [Starlette](https://www.starlette.io/) functionality with `FastAPI` too.\n",
    "\n",
    "</aside>\n",
    "\n",
    "2. **create a `FastAPI` \"instance\":** app = FastAPI()\n",
    "\n",
    "Here the `app` variable will be an \"instance\" of the class `FastAPI`.\n",
    "\n",
    "This will be the main point of interaction to create all your API.\n",
    "\n",
    "3. **create a *path operation:*** @app.get(\"/\")\n",
    "\n",
    "## Path\n",
    "\n",
    "\"Path\" here refers to the last part of the URL starting from the first `/` after https://.\n",
    "\n",
    "So, in a URL like:"
   ]
  },
  {
   "cell_type": "code",
   "execution_count": null,
   "metadata": {},
   "outputs": [],
   "source": [
    "https://example.com/items/foo\n"
   ]
  },
  {
   "cell_type": "markdown",
   "metadata": {},
   "source": [
    "\n",
    "...the path would be:\n",
    "\n"
   ]
  },
  {
   "cell_type": "code",
   "execution_count": null,
   "metadata": {},
   "outputs": [],
   "source": [
    "/items/foo\n"
   ]
  },
  {
   "cell_type": "markdown",
   "metadata": {},
   "source": [
    "<aside>\n",
    "\n",
    "A \"path\" is also commonly called an \"endpoint\" or a \"route\".\n",
    "\n",
    "</aside>\n",
    "\n",
    "When building APIs, you normally use these specific HTTP methods to perform a specific action.\n",
    "\n",
    "Normally you use:\n",
    "\n",
    "- `POST`: to create data.\n",
    "- `GET`: to read data.\n",
    "- `PUT`: to update data.\n",
    "- `DELETE`: to delete data.\n",
    "\n",
    "So, in OpenAPI, each of the HTTP methods is called an \"operation\".\n",
    "\n",
    "We are going to call them \"**operations**\" too.\n",
    "\n",
    "## Define a *path operation decorator*\n",
    "\n",
    "The `@app.get(\"/\")` tells **FastAPI** that the function right below is in charge of handling requests that go to:\n",
    "\n",
    "- the path `/`\n",
    "- using a `get` operation\n",
    "\n",
    "<aside>\n",
    "\n",
    "That `@something` syntax in Python is called a \"decorator\".\n",
    "\n",
    "You put it on top of a function. Like a pretty decorative hat (I guess that's where the term came from).\n",
    "\n",
    "A \"decorator\" takes the function below and does something with it.\n",
    "\n",
    "In our case, this decorator tells **FastAPI** that the function below corresponds to the **path** `/` with an **operation** `get`.\n",
    "\n",
    "It is the \"**path operation decorator**\".\n",
    "\n",
    "</aside>\n",
    "\n",
    "1. **define the path operation function:** `async def root():`\n",
    "    \n",
    "    This is our \"**path operation function**\":\n",
    "    \n",
    "    - **path**: is `/`.\n",
    "    - **operation**: is `get`.\n",
    "    - **function**: is the function below the \"decorator\" (below `@app.get(\"/\")`).\n",
    "    \n",
    "    This is a Python function.\n",
    "    \n",
    "    It will be called by **FastAPI** whenever it receives a request to the URL \"`/`\" using a `GET` operation.\n",
    "    \n",
    "    In this case, it is an `async` function."
   ]
  },
  {
   "cell_type": "code",
   "execution_count": null,
   "metadata": {},
   "outputs": [],
   "source": [
    "from fastapi import FastAPI\n",
    "\n",
    "app = FastAPI()\n",
    "\n",
    "@app.get(\"/\")\n",
    "async def root():\n",
    "    return {\"message\": \"Hello World\"}"
   ]
  },
  {
   "cell_type": "markdown",
   "metadata": {},
   "source": [
    "<aside>\n",
    "\n",
    "You could also define it as a normal function instead of `async def`\n",
    "\n",
    "</aside>\n",
    "\n",
    "2. **return the content**\n",
    "\n",
    "You can return a `dict`, `list`, singular values as `str`, `int`, etc.\n",
    "\n",
    "You can also return Pydantic models (you'll see more about that later).\n",
    "\n",
    "\n",
    "## **Recap**\n",
    "\n",
    "- Import `FastAPI`.\n",
    "- Create an `app` instance.\n",
    "- Write a **path operation decorator** using decorators like `@app.get(\"/\")`.\n",
    "- Define a **path operation function**; for example, `def root(): ...`.\n",
    "- Run the development server using the command `fastapi dev`.\n",
    "\n",
    "# **Path Parameters**\n",
    "\n",
    "You can declare path \"parameters\" or \"variables\" with the same syntax used by Python format strings:"
   ]
  },
  {
   "cell_type": "code",
   "execution_count": null,
   "metadata": {},
   "outputs": [],
   "source": [
    "from fastapi import FastAPI\n",
    "\n",
    "app = FastAPI()\n",
    "\n",
    "@app.get(\"/items/{item_id}\")\n",
    "async def read_item(item_id):\n",
    "    return {\"item_id\": item_id}"
   ]
  },
  {
   "cell_type": "markdown",
   "metadata": {},
   "source": [
    "\n",
    "**The value of the path parameter `item_id` will be passed to your function as the argument `item_id`.**\n",
    "\n",
    "So, if you run this example and go to [http://127.0.0.1:8000/items/foo](http://127.0.0.1:8000/items/foo), you will see a response of:\n",
    "\n"
   ]
  },
  {
   "cell_type": "code",
   "execution_count": null,
   "metadata": {},
   "outputs": [],
   "source": [
    "{\"item_id\":\"foo\"}"
   ]
  },
  {
   "cell_type": "markdown",
   "metadata": {},
   "source": [
    "\n",
    "## **Path parameters with types**\n",
    "\n",
    "You can declare the type of a path parameter in the function, using standard Python type annotations:\n",
    "\n"
   ]
  },
  {
   "cell_type": "code",
   "execution_count": null,
   "metadata": {},
   "outputs": [],
   "source": [
    "from fastapi import FastAPI\n",
    "\n",
    "app = FastAPI()\n",
    "\n",
    "@app.get(\"/items/{item_id}\")\n",
    "async def read_item(item_id: int):\n",
    "    return {\"item_id\": item_id}"
   ]
  },
  {
   "cell_type": "markdown",
   "metadata": {},
   "source": [
    "In this case, `item_id` is declared to be an `int`.\n",
    "\n",
    "<aside>\n",
    "\n",
    "This will give you editor support inside of your function, with error checks, completion, etc.\n",
    "\n",
    "</aside>\n",
    "\n",
    "## **Data conversion**\n",
    "\n",
    "If you run this example and open your browser at [http://127.0.0.1:8000/items/3](http://127.0.0.1:8000/items/3), you will see a response of:"
   ]
  },
  {
   "cell_type": "code",
   "execution_count": null,
   "metadata": {},
   "outputs": [],
   "source": [
    "{\"item_id\":3}"
   ]
  },
  {
   "cell_type": "markdown",
   "metadata": {},
   "source": [
    "<aside>\n",
    "\n",
    "Notice that the value your function received (and returned) is `3`, as a Python `int`, not a string `\"3\"`.\n",
    "\n",
    "So, with that type declaration, **FastAPI** gives you automatic request \"parsing\".\n",
    "\n",
    "</aside>\n",
    "\n",
    "## **Data validation**\n",
    "\n",
    "But if you go to the browser at [http://127.0.0.1:8000/items/foo](http://127.0.0.1:8000/items/foo), you will see a nice HTTP error of:\n",
    "\n",
    "![image.png](./resources/img/image.png)\n",
    "\n",
    "because the path parameter `item_id` had a value of `\"foo\"`, which is not an `int`.\n",
    "\n",
    "The same error would appear if you provided a `float` instead of an `int`, as in: [http://127.0.0.1:8000/items/4.2](http://127.0.0.1:8000/items/4.2)\n",
    "\n",
    "<aside>\n",
    "\n",
    "So, with the same Python type declaration, **FastAPI** gives you data validation.\n",
    "\n",
    "Notice that the error also clearly states exactly the point where the validation didn't pass.\n",
    "\n",
    "This is incredibly helpful while developing and debugging code that interacts with your API.\n",
    "\n",
    "</aside>\n",
    "\n",
    "## **Documentation**\n",
    "\n",
    "And when you open your browser at http://127.0.0.1:8000/docs, you will see an automatic, interactive, API documentation like:\n",
    "\n",
    "![image01.png](./resources/img/image01.png)\n",
    "\n",
    "## **Pydantic**\n",
    "\n",
    "All the data validation is performed under the hood by [Pydantic](https://docs.pydantic.dev/), so you get all the benefits from it. And you know you are in good hands.\n",
    "\n",
    "You can use the same type declarations with `str`, `float`, `bool` and many other complex data types.\n",
    "\n",
    "## **Order matters**\n",
    "\n",
    "When creating *path operations*, you can find situations where you have a fixed path.\n",
    "\n",
    "Like `/users/me`, let's say that it's to get data about the current user.\n",
    "\n",
    "And then you can also have a path `/users/{user_id}` to get data about a specific user by some user ID.\n",
    "\n",
    "Because *path operations* are evaluated in order, you need to make sure that the path for `/users/me` is declared before the one for `/users/{user_id}`:"
   ]
  },
  {
   "cell_type": "code",
   "execution_count": null,
   "metadata": {},
   "outputs": [],
   "source": [
    "from fastapi import FastAPI\n",
    "\n",
    "app = FastAPI()\n",
    "\n",
    "@app.get(\"/users/me\")\n",
    "async def read_user_me():\n",
    "    return {\"user_id\": \"the current user\"}\n",
    "\n",
    "@app.get(\"/users/{user_id}\")\n",
    "async def read_user(user_id: str):\n",
    "    return {\"user_id\": user_id}\n"
   ]
  },
  {
   "cell_type": "markdown",
   "metadata": {},
   "source": [
    "\n",
    "Otherwise, the path for `/users/{user_id}` would match also for `/users/me`, \"thinking\" that it's receiving a parameter `user_id` with a value of `\"me\"`.\n",
    "\n",
    "**For example:** The following code is ordered with the function ‚Äú*read_user_me()*‚Äù as the first call and ‚Äú*read_use*r()‚Äù as the second call.  As a result, for each time ‚Äúme‚Äù is typed as a path parameter, the server will show us the *‚Äúuser_id‚Äù:  ‚Äúthe current user‚Äù* string response.\n",
    "\n",
    "![image.png](./resources/img/image%201.png)\n",
    "\n",
    "![image.png](./resources/img/image%202.png)\n",
    "\n",
    "**Example 2**: Otherwise, for every time we type ‚Äúme‚Äù as a path parameter, we will get the string ‚Äúme‚Äù as a response. \n",
    "\n",
    "![image.png](./resources/img/image%203.png)\n",
    "\n",
    "![image.png](./resources/img/image%204.png)\n",
    "\n",
    "**Similarly, you cannot redefine a path operation:**\n",
    "\n"
   ]
  },
  {
   "cell_type": "code",
   "execution_count": null,
   "metadata": {},
   "outputs": [],
   "source": [
    "from fastapi import FastAPI\n",
    "\n",
    "app = FastAPI()\n",
    "\n",
    "@app.get(\"/users\")\n",
    "async def read_users():\n",
    "    return [\"Rick\", \"Morty\"]\n",
    "\n",
    "@app.get(\"/users\")\n",
    "async def read_users2():\n",
    "    return [\"Bean\", \"Elfo\"]\n"
   ]
  },
  {
   "cell_type": "markdown",
   "metadata": {},
   "source": [
    "\n",
    "The first one will always be used since the path matches first\n",
    "\n",
    "## **Predefined values with Enum**\n",
    "\n",
    "If you have a *path operation* that receives a *path parameter*, but you want the possible valid *path parameter* values to be predefined, you can use a standard Python `Enum`.\n",
    "\n",
    "1. **Create an `Enum` class**\n",
    "\n",
    "Import `Enum` and create a sub-class that inherits from `str` and from `Enum`.\n",
    "\n"
   ]
  },
  {
   "cell_type": "code",
   "execution_count": null,
   "metadata": {},
   "outputs": [],
   "source": [
    "from enum import Enum\n",
    "\n",
    "from fastapi import FastAPI\n",
    "\n",
    "class ModelName(str, Enum):\n",
    "    alexnet = \"alexnet\"\n",
    "    resnet = \"resnet\"\n",
    "    lenet = \"lenet\"\n"
   ]
  },
  {
   "cell_type": "markdown",
   "metadata": {},
   "source": [
    "<aside>\n",
    "\n",
    "By inheriting from `str` the API docs will be able to know that the values must be of type `string` and will be able to render correctly.\n",
    "\n",
    "</aside>\n",
    "\n",
    "Then create class attributes with fixed values, which will be the available valid values.\n",
    "\n",
    "1. **Declare a *path parameter***\n",
    "\n",
    "Then create a *path parameter* with a type annotation using the enum class you created (`ModelName`):"
   ]
  },
  {
   "cell_type": "code",
   "execution_count": null,
   "metadata": {},
   "outputs": [],
   "source": [
    "from enum import Enum\n",
    "\n",
    "from fastapi import FastAPI\n",
    "\n",
    "class ModelName(str, Enum):\n",
    "    alexnet = \"alexnet\"\n",
    "    resnet = \"resnet\"\n",
    "    lenet = \"lenet\"\n",
    "    \n",
    "@app.get(\"/models/{model_name}\")\n",
    "async def get_model(model_name: ModelName):\n",
    "    pass"
   ]
  },
  {
   "cell_type": "markdown",
   "metadata": {},
   "source": [
    "\n",
    "**3. Compare *enumeration members:*** \n",
    "\n",
    "You can compare it with the *enumeration member* in your created enum `ModelName`\n",
    "\n"
   ]
  },
  {
   "cell_type": "code",
   "execution_count": null,
   "metadata": {},
   "outputs": [],
   "source": [
    "from enum import Enum\n",
    "\n",
    "from fastapi import FastAPI\n",
    "\n",
    "class ModelName(str, Enum):\n",
    "    alexnet = \"alexnet\"\n",
    "    resnet = \"resnet\"\n",
    "    lenet = \"lenet\"\n",
    "    \n",
    "@app.get(\"/models/{model_name}\")\n",
    "async def get_model(model_name: ModelName):\n",
    "    if model_name is ModelName.alexnet:\n",
    "        return {\"model_name\": model_name, \"message\": \"Deep Learning FTW!\"}\n",
    "\n",
    "    if model_name.value == \"lenet\":\n",
    "        return {\"model_name\": model_name, \"message\": \"LeCNN all the images\"}\n"
   ]
  },
  {
   "cell_type": "markdown",
   "metadata": {},
   "source": [
    "\n",
    "1. **Get the *enumeration value***\n",
    "\n",
    "You can get the actual value (a `str` in this case) using `model_name.value`, or in general, `your_enum_member.value`:\n",
    "\n"
   ]
  },
  {
   "cell_type": "code",
   "execution_count": null,
   "metadata": {},
   "outputs": [],
   "source": [
    "from enum import Enum\n",
    "\n",
    "from fastapi import FastAPI\n",
    "\n",
    "class ModelName(str, Enum):\n",
    "    alexnet = \"alexnet\"\n",
    "    resnet = \"resnet\"\n",
    "    lenet = \"lenet\"\n",
    "    \n",
    "@app.get(\"/models/{model_name}\")\n",
    "async def get_model(model_name: ModelName):\n",
    "    if model_name is ModelName.alexnet:\n",
    "        return {\"model_name\": model_name, \"message\": \"Deep Learning FTW!\"}\n",
    "\n",
    "    if model_name.value == \"lenet\":\n",
    "        return {\"model_name\": model_name, \"message\": \"LeCNN all the images\"}\n",
    "\n",
    "    return {\"model_name\": model_name, \"message\": \"Have some residuals\"}\n"
   ]
  },
  {
   "cell_type": "markdown",
   "metadata": {},
   "source": [
    "<aside>\n",
    "\n",
    "If you are wondering, \"AlexNet\", \"ResNet\", and \"LeNet\" are just names of Machine Learning models.\n",
    "\n",
    "</aside>\n",
    "\n",
    "1. **Return *enumeration members***\n",
    "\n",
    "You can return *enum members* from your *path operation*, even nested in a JSON body (e.g. a `dict`).\n",
    "\n",
    "They will be converted to their corresponding values (strings in this case) before returning them to the client:\n",
    "\n",
    "### Examples:\n",
    "\n",
    "**Example 1: ____________________________________________________________________________________________**\n",
    "\n",
    "![image.png](./resources/img/image%205.png)\n",
    "\n",
    "**Example 2:_____________________________________________________________________________________________**\n",
    "\n",
    "![image.png](./resources/img/image%206.png)\n",
    "\n",
    "**Example 3:_____________________________________________________________________________________________**\n",
    "\n",
    "![image.png](./resources/img/image%207.png)\n",
    "\n",
    "**Example 4 (with error):________________________________________________________________________________**\n",
    "\n",
    "![image.png](./resources/img/image%208.png)\n",
    "\n",
    "## **Path parameters containing paths**\n",
    "\n",
    "Let's say you have a *path operation* with a path `/files/{file_path}`.\n",
    "\n",
    "But you need `file_path` itself to contain a *path*, like `home/johndoe/myfile.txt`.\n",
    "\n",
    "So, the URL for that file would be something like: `/files/home/johndoe/myfile.txt`.\n",
    "\n",
    "### **Path convertor**\n",
    "\n",
    "Using an option directly from Starlette you can declare a *path parameter* containing a *path* using a URL like:"
   ]
  },
  {
   "cell_type": "raw",
   "metadata": {},
   "source": [
    "/files/{file_path:path}"
   ]
  },
  {
   "cell_type": "markdown",
   "metadata": {},
   "source": [
    "\n",
    "In this case, the name of the parameter is `file_path`, and the last part, `:path`, tells it that the parameter should match any *path*.\n",
    "\n",
    "So, you can use it with:\n",
    "\n"
   ]
  },
  {
   "cell_type": "code",
   "execution_count": null,
   "metadata": {},
   "outputs": [],
   "source": [
    "from fastapi import FastAPI\n",
    "\n",
    "app = FastAPI()\n",
    "\n",
    "@app.get(\"/files/{file_path:path}\")\n",
    "async def read_file(file_path: str):\n",
    "    return {\"file_path\": file_path}\n"
   ]
  },
  {
   "cell_type": "markdown",
   "metadata": {},
   "source": [
    "Example:\n",
    "\n",
    "![image.png](./resources/img/image%209.png)\n",
    "\n",
    "![image.png](./resources/img/image%2010.png)\n",
    "\n",
    "<aside>\n",
    "\n",
    "You could need the parameter to contain `/home/johndoe/myfile.txt`, with a leading slash (`/`).\n",
    "\n",
    "In that case, the URL would be: `/files//home/johndoe/myfile.txt`, with a double slash (`//`) between `files` and `home`.\n",
    "\n",
    "</aside>\n",
    "\n",
    "## **Recap**\n",
    "\n",
    "With **FastAPI**, by using short, intuitive and standard Python type declarations, you get:\n",
    "\n",
    "- Editor support: error checks, auto-completion, etc.\n",
    "- Data \"\"\n",
    "    \n",
    "    parsing\n",
    "    \n",
    "- Data validation\n",
    "- API annotation and automatic documentation\n",
    "\n",
    "And you only have to declare them once.\n",
    "\n",
    "That's probably the main visible advantage of **FastAPI** compared to alternative frameworks (apart from the raw performance).\n",
    "\n",
    "# Query Parameters\n",
    "\n",
    "When you declare other function parameters that are not part of the path parameters, they are automatically interpreted as \"query\" parameters."
   ]
  },
  {
   "cell_type": "code",
   "execution_count": null,
   "metadata": {},
   "outputs": [],
   "source": [
    "from fastapi import FastAPI\n",
    "\n",
    "app = FastAPI()\n",
    "\n",
    "fake_items_db = [{\"item_name\": \"Foo\"}, {\"item_name\": \"Bar\"}, {\"item_name\": \"Baz\"}]\n",
    "\n",
    "@app.get(\"/items/\")\n",
    "async def read_item(skip: int = 0, limit: int = 10):\n",
    "    return fake_items_db[skip : skip + limit]\n"
   ]
  },
  {
   "cell_type": "markdown",
   "metadata": {},
   "source": [
    "<aside>\n",
    "\n",
    "- return fake_items_db[skip: skip + limit]\n",
    "    \n",
    "    This line returns a slice of the `fake_items_db` list. It starts at the index specified by `skip` and goes up to (but not including) the index specified by `skip + limit`.\n",
    "    \n",
    "\n",
    "In summary, this code sets up a FastAPI application with a single endpoint (\"/items/\") that returns a subset of items from a fake database. The endpoint supports pagination through `skip` and `limit` query parameters\n",
    "\n",
    "</aside>\n",
    "\n",
    "**The query is the set of key-value pairs that go after the `?` in a URL, separated by `&` characters.**\n",
    "\n",
    "For example, in the URL:"
   ]
  },
  {
   "cell_type": "raw",
   "metadata": {},
   "source": [
    "http://127.0.0.1:8000/items/?skip=0&limit=10"
   ]
  },
  {
   "cell_type": "markdown",
   "metadata": {},
   "source": [
    "\n",
    "The query parameters are:\n",
    "\n",
    "- `skip`: with a value of `0`\n",
    "- `limit`: with a value of `10`\n",
    "\n",
    "As they are part of the URL, they are \"naturally\" strings.\n",
    "\n",
    "But when you declare them with Python types (in the example above, as `int`), they are converted to that type and validated against it.\n",
    "\n",
    "All the same process that applied for path parameters also applies for query parameters\n",
    "\n",
    "Example 1:\n",
    "\n",
    "![image.png](./resources/img/image%2011.png)\n",
    "\n",
    "Example 2:\n",
    "\n",
    "![image.png](./resources/img/image%2012.png)\n",
    "\n",
    "Example 3:\n",
    "\n",
    "![image.png](./resources/img/image%2013.png)\n",
    "\n",
    "## **Defaults**\n",
    "\n",
    "**As query parameters are not a fixed part of a path, they can be optional and can have default values.**\n",
    "\n",
    "In the example above they have default values of `skip=0` and `limit=10`.\n",
    "\n",
    "So, going to the URL:\n",
    "\n"
   ]
  },
  {
   "cell_type": "raw",
   "metadata": {},
   "source": [
    "http://127.0.0.1:8000/items/"
   ]
  },
  {
   "cell_type": "markdown",
   "metadata": {},
   "source": [
    "\n",
    "would be the same as going to:\n",
    "\n"
   ]
  },
  {
   "cell_type": "raw",
   "metadata": {},
   "source": [
    "http://127.0.0.1:8000/items/?skip=0&limit=10"
   ]
  },
  {
   "cell_type": "markdown",
   "metadata": {},
   "source": [
    "\n",
    "But if you go to, for example:\n",
    "\n"
   ]
  },
  {
   "cell_type": "raw",
   "metadata": {},
   "source": [
    "http://127.0.0.1:8000/items/?skip=20"
   ]
  },
  {
   "cell_type": "markdown",
   "metadata": {},
   "source": [
    "\n",
    "The parameter values in your function will be:\n",
    "\n",
    "- `skip=20`: because you set it in the URL\n",
    "- `limit=10`: because that was the default value\n",
    "\n",
    "## **Optional parameters**\n",
    "\n",
    "The same way, you can declare optional query parameters, by setting their default to `None`:\n",
    "\n"
   ]
  },
  {
   "cell_type": "code",
   "execution_count": null,
   "metadata": {},
   "outputs": [],
   "source": [
    "from fastapi import FastAPI\n",
    "\n",
    "app = FastAPI()\n",
    "\n",
    "@app.get(\"/items/{item_id}\")\n",
    "async def read_item(item_id: str, q: str | None = None):\n",
    "    if q:\n",
    "        return {\"item_id\": item_id, \"q\": q}\n",
    "    return {\"item_id\": item_id}\n"
   ]
  },
  {
   "cell_type": "markdown",
   "metadata": {},
   "source": [
    "In this case, the function parameter `q` will be optional, and will be `None` by default.\n",
    "\n",
    "<aside>\n",
    "\n",
    "*Also notice that **FastAPI** is smart enough to notice that the path parameter `item_id` is a path parameter and `q` is not, so, it's a query parameter.*\n",
    "\n",
    "</aside>\n",
    "\n",
    "Example 1:\n",
    "\n",
    "![image.png](./resources/img/image%2014.png)\n",
    "\n",
    "Example 2:\n",
    "\n",
    "![image.png](./resources/img/image%2015.png)\n",
    "\n",
    "## **Query parameter type conversion**\n",
    "\n",
    "You can also declare `bool` types, and they will be converted:"
   ]
  },
  {
   "cell_type": "code",
   "execution_count": null,
   "metadata": {},
   "outputs": [],
   "source": [
    "from fastapi import FastAPI\n",
    "\n",
    "app = FastAPI()\n",
    "\n",
    "@app.get(\"/items/{item_id}\")\n",
    "async def read_item(item_id: str, q: str | None = None, short: bool = False):\n",
    "    item = {\"item_id\": item_id}\n",
    "    if q:\n",
    "        item.update({\"q\": q})\n",
    "    if not short:\n",
    "        item.update(\n",
    "            {\"description\": \"This is an amazing item that has a long description\"}\n",
    "        )\n",
    "    return item\n"
   ]
  }
 ],
 "metadata": {
  "kernelspec": {
   "display_name": "Python 3 (ipykernel)",
   "language": "python",
   "name": "python3"
  },
  "language_info": {
   "codemirror_mode": {
    "name": "ipython",
    "version": 3
   },
   "file_extension": ".py",
   "mimetype": "text/x-python",
   "name": "python",
   "nbconvert_exporter": "python",
   "pygments_lexer": "ipython3",
   "version": "3.10.11"
  }
 },
 "nbformat": 4,
 "nbformat_minor": 4
}